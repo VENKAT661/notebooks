{
    "cells": [
        {
            "metadata": {
                "collapsed": true
            },
            "cell_type": "markdown",
            "source": "# My Jupyter Notebook on IBM Watson Studio"
        },
        {
            "metadata": {},
            "cell_type": "markdown",
            "source": "# Venkata Raju Vaddadi\nI am recent graduate and currently unemployed"
        },
        {
            "metadata": {},
            "cell_type": "markdown",
            "source": "1. I have a passion for working for data-driven innovative companies.\n2. It will give me good career.\n3. Data Science provides challenging work and plenty of work oppotunities."
        },
        {
            "metadata": {},
            "cell_type": "markdown",
            "source": "###  *The below code will print random number in the range 1 to 9.*"
        },
        {
            "metadata": {},
            "cell_type": "code",
            "source": "import random\nprint(random.randint(0, 9))",
            "execution_count": 1,
            "outputs": [
                {
                    "output_type": "stream",
                    "text": "2\n",
                    "name": "stdout"
                }
            ]
        },
        {
            "metadata": {},
            "cell_type": "markdown",
            "source": " - Bulleted List\n - Bulleted List\n - Bulleted List\n"
        }
    ],
    "metadata": {
        "kernelspec": {
            "name": "python3",
            "display_name": "Python 3.9",
            "language": "python"
        },
        "language_info": {
            "name": "python",
            "version": "3.9.12",
            "mimetype": "text/x-python",
            "codemirror_mode": {
                "name": "ipython",
                "version": 3
            },
            "pygments_lexer": "ipython3",
            "nbconvert_exporter": "python",
            "file_extension": ".py"
        }
    },
    "nbformat": 4,
    "nbformat_minor": 1
}